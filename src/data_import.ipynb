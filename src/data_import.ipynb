{
 "cells": [
  {
   "cell_type": "code",
   "execution_count": 1,
   "metadata": {},
   "outputs": [
    {
     "name": "stdout",
     "output_type": "stream",
     "text": [
      "   Id  Age          Job   Marital  Education  Default  Balance  HHInsurance  \\\n",
      "0   1   32   management    single   tertiary        0     1218            1   \n",
      "1   2   32  blue-collar   married    primary        0     1156            1   \n",
      "2   3   29   management    single   tertiary        0      637            1   \n",
      "3   4   25      student    single    primary        0      373            1   \n",
      "4   5   30   management   married   tertiary        0     2694            0   \n",
      "5   6   32   technician    single   tertiary        0     1625            0   \n",
      "6   7   37       admin.    single   tertiary        0     1000            1   \n",
      "7   8   35   management  divorced   tertiary        0      538            1   \n",
      "8   9   30       admin.   married  secondary        0      187            1   \n",
      "9  10   30  blue-collar   married  secondary        0        3            1   \n",
      "\n",
      "   CarLoan Communication  LastContactDay LastContactMonth  NoOfContacts  \\\n",
      "0        0     telephone              28              jan             2   \n",
      "1        0           NaN              26              may             5   \n",
      "2        0      cellular               3              jun             1   \n",
      "3        0      cellular              11              may             2   \n",
      "4        0      cellular               3              jun             1   \n",
      "5        0      cellular              22              may             1   \n",
      "6        0      cellular              17              mar             1   \n",
      "7        0           NaN              12              may             4   \n",
      "8        0      cellular              18              nov             1   \n",
      "9        1      cellular              12              may             2   \n",
      "\n",
      "   DaysPassed  PrevAttempts  Outcome CallStart   CallEnd  CarInsurance  \n",
      "0          -1             0      NaN  13:45:20  13:46:30             0  \n",
      "1          -1             0      NaN  14:49:03  14:52:08             0  \n",
      "2         119             1  failure  16:30:24  16:36:04             1  \n",
      "3          -1             0      NaN  12:06:43  12:20:22             1  \n",
      "4          -1             0      NaN  14:35:44  14:38:56             0  \n",
      "5         109             1  failure  14:58:08  15:11:24             1  \n",
      "6          -1             0      NaN  13:00:02  13:03:17             1  \n",
      "7          -1             0      NaN  15:39:43  15:40:49             0  \n",
      "8          -1             0      NaN  12:20:56  12:22:42             0  \n",
      "9          -1             0      NaN  09:22:20  09:27:46             0  \n"
     ]
    }
   ],
   "source": [
    "#load packages\n",
    "import pandas as pd\n",
    "import numpy as np\n",
    "\n",
    "#read car_insurance data\n",
    "car_insurance = pd.read_csv(\"../data/carInsurance.csv\")\n",
    "print(car_insurance.head(10))"
   ]
  },
  {
   "cell_type": "code",
   "execution_count": null,
   "metadata": {},
   "outputs": [],
   "source": []
  }
 ],
 "metadata": {
  "kernelspec": {
   "display_name": "Python 3",
   "language": "python",
   "name": "python3"
  },
  "language_info": {
   "codemirror_mode": {
    "name": "ipython",
    "version": 3
   },
   "file_extension": ".py",
   "mimetype": "text/x-python",
   "name": "python",
   "nbconvert_exporter": "python",
   "pygments_lexer": "ipython3",
   "version": "3.6.5"
  }
 },
 "nbformat": 4,
 "nbformat_minor": 2
}
