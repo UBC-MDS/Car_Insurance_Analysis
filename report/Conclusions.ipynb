{
 "cells": [
  {
   "cell_type": "markdown",
   "metadata": {},
   "source": [
    "1)Question: Does the mean car insurance price depend on marital status ?\n",
    "\n",
    "\n",
    "2) Name of dataset: Car Insurance Cold calls.\n",
    "\n",
    "Link to the data set: We loaded the dataset using pandas via jupyter notebook\n",
    "\n",
    "https://github.com/UBC-MDS/DSCI_522_Car_Insurance_Analysis/blob/master/src/data_import.ipynb\n",
    "\n",
    "3) Analysis: \n",
    "\n",
    "We want to analyze if martial status played a role in determining the price of car insurance.\n",
    "\n",
    "Our estimate will be the mean price of car insurance paid by people with different marital \n",
    "\n",
    "statuses(married/single/divorced).\n",
    "\n",
    "To proceed with this analysis, we will implement Hypothesis tests and confidence intervals to see how the mean car \n",
    "\n",
    "insurance prices changes for different groups depending on marital status.\n",
    "\n",
    "Null Hypothesis : There is no difference  in the mean car insurnace prices of different marital status groups.\n",
    "\n",
    "Alternative Hypothesis: At least one marital status group has a different mean car insurance price from other groups.\n",
    "\n",
    "\n",
    "4) We need to do data wrangling to distinguish the three groups of people(i.e married/single/divorced) and calcualte \n",
    "\n",
    "the sample mean of each group and then we plot a sample distribution for each group showing the confidence interval \n",
    "\n",
    "considering  a threshold of 0.05. \n",
    "\n"
   ]
  },
  {
   "cell_type": "code",
   "execution_count": null,
   "metadata": {},
   "outputs": [],
   "source": []
  }
 ],
 "metadata": {
  "kernelspec": {
   "display_name": "Python 3",
   "language": "python",
   "name": "python3"
  },
  "language_info": {
   "codemirror_mode": {
    "name": "ipython",
    "version": 3
   },
   "file_extension": ".py",
   "mimetype": "text/x-python",
   "name": "python",
   "nbconvert_exporter": "python",
   "pygments_lexer": "ipython3",
   "version": "3.6.1"
  }
 },
 "nbformat": 4,
 "nbformat_minor": 2
}
